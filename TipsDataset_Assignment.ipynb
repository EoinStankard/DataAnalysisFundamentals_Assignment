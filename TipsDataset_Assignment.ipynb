{
 "cells": [
  {
   "cell_type": "markdown",
   "metadata": {},
   "source": [
    "# <center>Fundamentals for Data Analysis Assignment </center>\n",
    "\n",
    "This Jupyter notebook is based on the Seaborn Tips dataset.\n",
    "\n",
    "#### About the Tips Dataset\n",
    "\n",
    "Food servers’ tips in restaurants may be influenced by many factors, including the nature of the restaurant, size of the party, and table locations in the restaurant. Restaurant managers need to know which factors matter when they assign tables to food servers. For the sake of staff morale, they usually want to avoid either the substance or the appearance of unfair treatment of the servers, for whom tips (at least in restaurants in the United States) are a major component of pay. In one restaurant, a food server recorded the following data on all cus- tomers they served during an interval of two and a half months in early 1990. The restaurant, located in a suburban shopping mall, was part of a national chain and served a varied menu. In observance of local law, the restaurant offered to seat in a non-smoking section to patrons who requested it. Each record includes a day and time, and taken together, they show the server’s work schedule.\n",
    "\n",
    "The Tips dataset contains the following parameters\n",
    "1. total bill\n",
    "2. tip\n",
    "3. sex\n",
    "4. smoker\n",
    "5. day\n",
    "6. day\n",
    "7. time\n",
    "8. size\n",
    "\n",
    "I will be analysing to see if there is a relationship between the different variables of the dataset.\n"
   ]
  },
  {
   "cell_type": "markdown",
   "metadata": {},
   "source": [
    "The main variables i want to analyse are\n",
    "\n",
    "##### 1. The relationship between the total bill and the tip given\n",
    " - (1a) Plots that represent the given data\n",
    " - (1b) What percentage of people rounded off their bill to a whole number?\n",
    " - (1c) What percentage tips did people give on average?\n",
    "\n",
    "#### 2. Sex variable and how it related to the total bill & tip given\n",
    " - (2a) Plots to show the relationship between sex and tip given\n",
    " - (2b) Is there a relation between the meal time and the sex paying? \n",
    "\n",
    "#### 3. Tip given in relation to the Day\n",
    " - (3a) Plot to show the relationship between the Tip given and day of the week\n",
    " - (3b) Breakdown of the total tips over the four days\n",
    " - (3c) Color plot of where the majority of tips came from on each day\n",
    "\n",
    "#### 4. Total bill and Tip in relation to Size of the group\n",
    " - (4a) Average bill price per person\n",
    " - (4b) What Group Sizes gave the best tip\n",
    "\n",
    "#### 5. Smoking and the time of the day\n",
    " - (5a) Dataframe of sex, time and smoker\n",
    " - (5b) Was there a larger amount of smokers at lunch or dinner?\n"
   ]
  },
  {
   "cell_type": "code",
   "execution_count": 1,
   "metadata": {},
   "outputs": [],
   "source": [
    "import numpy as np\n",
    "import pandas as pd\n",
    "import matplotlib.pyplot as plt\n",
    "import seaborn as sns\n",
    "import csv\n",
    "sns.set(style=\"darkgrid\")\n",
    "tips = sns.load_dataset(\"tips\") # Load the Dataset"
   ]
  },
  {
   "cell_type": "markdown",
   "metadata": {},
   "source": [
    "## <font color='red'>Tips Dataset Parameters</font>"
   ]
  },
  {
   "cell_type": "code",
   "execution_count": 2,
   "metadata": {},
   "outputs": [
    {
     "data": {
      "text/html": [
       "<div>\n",
       "<style scoped>\n",
       "    .dataframe tbody tr th:only-of-type {\n",
       "        vertical-align: middle;\n",
       "    }\n",
       "\n",
       "    .dataframe tbody tr th {\n",
       "        vertical-align: top;\n",
       "    }\n",
       "\n",
       "    .dataframe thead th {\n",
       "        text-align: right;\n",
       "    }\n",
       "</style>\n",
       "<table border=\"1\" class=\"dataframe\">\n",
       "  <thead>\n",
       "    <tr style=\"text-align: right;\">\n",
       "      <th></th>\n",
       "      <th>total_bill</th>\n",
       "      <th>tip</th>\n",
       "      <th>sex</th>\n",
       "      <th>smoker</th>\n",
       "      <th>day</th>\n",
       "      <th>time</th>\n",
       "      <th>size</th>\n",
       "    </tr>\n",
       "  </thead>\n",
       "  <tbody>\n",
       "    <tr>\n",
       "      <th>0</th>\n",
       "      <td>16.99</td>\n",
       "      <td>1.01</td>\n",
       "      <td>Female</td>\n",
       "      <td>No</td>\n",
       "      <td>Sun</td>\n",
       "      <td>Dinner</td>\n",
       "      <td>2</td>\n",
       "    </tr>\n",
       "    <tr>\n",
       "      <th>1</th>\n",
       "      <td>10.34</td>\n",
       "      <td>1.66</td>\n",
       "      <td>Male</td>\n",
       "      <td>No</td>\n",
       "      <td>Sun</td>\n",
       "      <td>Dinner</td>\n",
       "      <td>3</td>\n",
       "    </tr>\n",
       "    <tr>\n",
       "      <th>2</th>\n",
       "      <td>21.01</td>\n",
       "      <td>3.50</td>\n",
       "      <td>Male</td>\n",
       "      <td>No</td>\n",
       "      <td>Sun</td>\n",
       "      <td>Dinner</td>\n",
       "      <td>3</td>\n",
       "    </tr>\n",
       "    <tr>\n",
       "      <th>3</th>\n",
       "      <td>23.68</td>\n",
       "      <td>3.31</td>\n",
       "      <td>Male</td>\n",
       "      <td>No</td>\n",
       "      <td>Sun</td>\n",
       "      <td>Dinner</td>\n",
       "      <td>2</td>\n",
       "    </tr>\n",
       "    <tr>\n",
       "      <th>4</th>\n",
       "      <td>24.59</td>\n",
       "      <td>3.61</td>\n",
       "      <td>Female</td>\n",
       "      <td>No</td>\n",
       "      <td>Sun</td>\n",
       "      <td>Dinner</td>\n",
       "      <td>4</td>\n",
       "    </tr>\n",
       "    <tr>\n",
       "      <th>5</th>\n",
       "      <td>25.29</td>\n",
       "      <td>4.71</td>\n",
       "      <td>Male</td>\n",
       "      <td>No</td>\n",
       "      <td>Sun</td>\n",
       "      <td>Dinner</td>\n",
       "      <td>4</td>\n",
       "    </tr>\n",
       "    <tr>\n",
       "      <th>6</th>\n",
       "      <td>8.77</td>\n",
       "      <td>2.00</td>\n",
       "      <td>Male</td>\n",
       "      <td>No</td>\n",
       "      <td>Sun</td>\n",
       "      <td>Dinner</td>\n",
       "      <td>2</td>\n",
       "    </tr>\n",
       "    <tr>\n",
       "      <th>7</th>\n",
       "      <td>26.88</td>\n",
       "      <td>3.12</td>\n",
       "      <td>Male</td>\n",
       "      <td>No</td>\n",
       "      <td>Sun</td>\n",
       "      <td>Dinner</td>\n",
       "      <td>4</td>\n",
       "    </tr>\n",
       "    <tr>\n",
       "      <th>8</th>\n",
       "      <td>15.04</td>\n",
       "      <td>1.96</td>\n",
       "      <td>Male</td>\n",
       "      <td>No</td>\n",
       "      <td>Sun</td>\n",
       "      <td>Dinner</td>\n",
       "      <td>2</td>\n",
       "    </tr>\n",
       "    <tr>\n",
       "      <th>9</th>\n",
       "      <td>14.78</td>\n",
       "      <td>3.23</td>\n",
       "      <td>Male</td>\n",
       "      <td>No</td>\n",
       "      <td>Sun</td>\n",
       "      <td>Dinner</td>\n",
       "      <td>2</td>\n",
       "    </tr>\n",
       "    <tr>\n",
       "      <th>10</th>\n",
       "      <td>10.27</td>\n",
       "      <td>1.71</td>\n",
       "      <td>Male</td>\n",
       "      <td>No</td>\n",
       "      <td>Sun</td>\n",
       "      <td>Dinner</td>\n",
       "      <td>2</td>\n",
       "    </tr>\n",
       "    <tr>\n",
       "      <th>11</th>\n",
       "      <td>35.26</td>\n",
       "      <td>5.00</td>\n",
       "      <td>Female</td>\n",
       "      <td>No</td>\n",
       "      <td>Sun</td>\n",
       "      <td>Dinner</td>\n",
       "      <td>4</td>\n",
       "    </tr>\n",
       "    <tr>\n",
       "      <th>12</th>\n",
       "      <td>15.42</td>\n",
       "      <td>1.57</td>\n",
       "      <td>Male</td>\n",
       "      <td>No</td>\n",
       "      <td>Sun</td>\n",
       "      <td>Dinner</td>\n",
       "      <td>2</td>\n",
       "    </tr>\n",
       "    <tr>\n",
       "      <th>13</th>\n",
       "      <td>18.43</td>\n",
       "      <td>3.00</td>\n",
       "      <td>Male</td>\n",
       "      <td>No</td>\n",
       "      <td>Sun</td>\n",
       "      <td>Dinner</td>\n",
       "      <td>4</td>\n",
       "    </tr>\n",
       "    <tr>\n",
       "      <th>14</th>\n",
       "      <td>14.83</td>\n",
       "      <td>3.02</td>\n",
       "      <td>Female</td>\n",
       "      <td>No</td>\n",
       "      <td>Sun</td>\n",
       "      <td>Dinner</td>\n",
       "      <td>2</td>\n",
       "    </tr>\n",
       "    <tr>\n",
       "      <th>15</th>\n",
       "      <td>21.58</td>\n",
       "      <td>3.92</td>\n",
       "      <td>Male</td>\n",
       "      <td>No</td>\n",
       "      <td>Sun</td>\n",
       "      <td>Dinner</td>\n",
       "      <td>2</td>\n",
       "    </tr>\n",
       "    <tr>\n",
       "      <th>16</th>\n",
       "      <td>10.33</td>\n",
       "      <td>1.67</td>\n",
       "      <td>Female</td>\n",
       "      <td>No</td>\n",
       "      <td>Sun</td>\n",
       "      <td>Dinner</td>\n",
       "      <td>3</td>\n",
       "    </tr>\n",
       "    <tr>\n",
       "      <th>17</th>\n",
       "      <td>16.29</td>\n",
       "      <td>3.71</td>\n",
       "      <td>Male</td>\n",
       "      <td>No</td>\n",
       "      <td>Sun</td>\n",
       "      <td>Dinner</td>\n",
       "      <td>3</td>\n",
       "    </tr>\n",
       "    <tr>\n",
       "      <th>18</th>\n",
       "      <td>16.97</td>\n",
       "      <td>3.50</td>\n",
       "      <td>Female</td>\n",
       "      <td>No</td>\n",
       "      <td>Sun</td>\n",
       "      <td>Dinner</td>\n",
       "      <td>3</td>\n",
       "    </tr>\n",
       "    <tr>\n",
       "      <th>19</th>\n",
       "      <td>20.65</td>\n",
       "      <td>3.35</td>\n",
       "      <td>Male</td>\n",
       "      <td>No</td>\n",
       "      <td>Sat</td>\n",
       "      <td>Dinner</td>\n",
       "      <td>3</td>\n",
       "    </tr>\n",
       "    <tr>\n",
       "      <th>20</th>\n",
       "      <td>17.92</td>\n",
       "      <td>4.08</td>\n",
       "      <td>Male</td>\n",
       "      <td>No</td>\n",
       "      <td>Sat</td>\n",
       "      <td>Dinner</td>\n",
       "      <td>2</td>\n",
       "    </tr>\n",
       "    <tr>\n",
       "      <th>21</th>\n",
       "      <td>20.29</td>\n",
       "      <td>2.75</td>\n",
       "      <td>Female</td>\n",
       "      <td>No</td>\n",
       "      <td>Sat</td>\n",
       "      <td>Dinner</td>\n",
       "      <td>2</td>\n",
       "    </tr>\n",
       "    <tr>\n",
       "      <th>22</th>\n",
       "      <td>15.77</td>\n",
       "      <td>2.23</td>\n",
       "      <td>Female</td>\n",
       "      <td>No</td>\n",
       "      <td>Sat</td>\n",
       "      <td>Dinner</td>\n",
       "      <td>2</td>\n",
       "    </tr>\n",
       "    <tr>\n",
       "      <th>23</th>\n",
       "      <td>39.42</td>\n",
       "      <td>7.58</td>\n",
       "      <td>Male</td>\n",
       "      <td>No</td>\n",
       "      <td>Sat</td>\n",
       "      <td>Dinner</td>\n",
       "      <td>4</td>\n",
       "    </tr>\n",
       "    <tr>\n",
       "      <th>24</th>\n",
       "      <td>19.82</td>\n",
       "      <td>3.18</td>\n",
       "      <td>Male</td>\n",
       "      <td>No</td>\n",
       "      <td>Sat</td>\n",
       "      <td>Dinner</td>\n",
       "      <td>2</td>\n",
       "    </tr>\n",
       "    <tr>\n",
       "      <th>25</th>\n",
       "      <td>17.81</td>\n",
       "      <td>2.34</td>\n",
       "      <td>Male</td>\n",
       "      <td>No</td>\n",
       "      <td>Sat</td>\n",
       "      <td>Dinner</td>\n",
       "      <td>4</td>\n",
       "    </tr>\n",
       "    <tr>\n",
       "      <th>26</th>\n",
       "      <td>13.37</td>\n",
       "      <td>2.00</td>\n",
       "      <td>Male</td>\n",
       "      <td>No</td>\n",
       "      <td>Sat</td>\n",
       "      <td>Dinner</td>\n",
       "      <td>2</td>\n",
       "    </tr>\n",
       "    <tr>\n",
       "      <th>27</th>\n",
       "      <td>12.69</td>\n",
       "      <td>2.00</td>\n",
       "      <td>Male</td>\n",
       "      <td>No</td>\n",
       "      <td>Sat</td>\n",
       "      <td>Dinner</td>\n",
       "      <td>2</td>\n",
       "    </tr>\n",
       "    <tr>\n",
       "      <th>28</th>\n",
       "      <td>21.70</td>\n",
       "      <td>4.30</td>\n",
       "      <td>Male</td>\n",
       "      <td>No</td>\n",
       "      <td>Sat</td>\n",
       "      <td>Dinner</td>\n",
       "      <td>2</td>\n",
       "    </tr>\n",
       "    <tr>\n",
       "      <th>29</th>\n",
       "      <td>19.65</td>\n",
       "      <td>3.00</td>\n",
       "      <td>Female</td>\n",
       "      <td>No</td>\n",
       "      <td>Sat</td>\n",
       "      <td>Dinner</td>\n",
       "      <td>2</td>\n",
       "    </tr>\n",
       "    <tr>\n",
       "      <th>...</th>\n",
       "      <td>...</td>\n",
       "      <td>...</td>\n",
       "      <td>...</td>\n",
       "      <td>...</td>\n",
       "      <td>...</td>\n",
       "      <td>...</td>\n",
       "      <td>...</td>\n",
       "    </tr>\n",
       "    <tr>\n",
       "      <th>214</th>\n",
       "      <td>28.17</td>\n",
       "      <td>6.50</td>\n",
       "      <td>Female</td>\n",
       "      <td>Yes</td>\n",
       "      <td>Sat</td>\n",
       "      <td>Dinner</td>\n",
       "      <td>3</td>\n",
       "    </tr>\n",
       "    <tr>\n",
       "      <th>215</th>\n",
       "      <td>12.90</td>\n",
       "      <td>1.10</td>\n",
       "      <td>Female</td>\n",
       "      <td>Yes</td>\n",
       "      <td>Sat</td>\n",
       "      <td>Dinner</td>\n",
       "      <td>2</td>\n",
       "    </tr>\n",
       "    <tr>\n",
       "      <th>216</th>\n",
       "      <td>28.15</td>\n",
       "      <td>3.00</td>\n",
       "      <td>Male</td>\n",
       "      <td>Yes</td>\n",
       "      <td>Sat</td>\n",
       "      <td>Dinner</td>\n",
       "      <td>5</td>\n",
       "    </tr>\n",
       "    <tr>\n",
       "      <th>217</th>\n",
       "      <td>11.59</td>\n",
       "      <td>1.50</td>\n",
       "      <td>Male</td>\n",
       "      <td>Yes</td>\n",
       "      <td>Sat</td>\n",
       "      <td>Dinner</td>\n",
       "      <td>2</td>\n",
       "    </tr>\n",
       "    <tr>\n",
       "      <th>218</th>\n",
       "      <td>7.74</td>\n",
       "      <td>1.44</td>\n",
       "      <td>Male</td>\n",
       "      <td>Yes</td>\n",
       "      <td>Sat</td>\n",
       "      <td>Dinner</td>\n",
       "      <td>2</td>\n",
       "    </tr>\n",
       "    <tr>\n",
       "      <th>219</th>\n",
       "      <td>30.14</td>\n",
       "      <td>3.09</td>\n",
       "      <td>Female</td>\n",
       "      <td>Yes</td>\n",
       "      <td>Sat</td>\n",
       "      <td>Dinner</td>\n",
       "      <td>4</td>\n",
       "    </tr>\n",
       "    <tr>\n",
       "      <th>220</th>\n",
       "      <td>12.16</td>\n",
       "      <td>2.20</td>\n",
       "      <td>Male</td>\n",
       "      <td>Yes</td>\n",
       "      <td>Fri</td>\n",
       "      <td>Lunch</td>\n",
       "      <td>2</td>\n",
       "    </tr>\n",
       "    <tr>\n",
       "      <th>221</th>\n",
       "      <td>13.42</td>\n",
       "      <td>3.48</td>\n",
       "      <td>Female</td>\n",
       "      <td>Yes</td>\n",
       "      <td>Fri</td>\n",
       "      <td>Lunch</td>\n",
       "      <td>2</td>\n",
       "    </tr>\n",
       "    <tr>\n",
       "      <th>222</th>\n",
       "      <td>8.58</td>\n",
       "      <td>1.92</td>\n",
       "      <td>Male</td>\n",
       "      <td>Yes</td>\n",
       "      <td>Fri</td>\n",
       "      <td>Lunch</td>\n",
       "      <td>1</td>\n",
       "    </tr>\n",
       "    <tr>\n",
       "      <th>223</th>\n",
       "      <td>15.98</td>\n",
       "      <td>3.00</td>\n",
       "      <td>Female</td>\n",
       "      <td>No</td>\n",
       "      <td>Fri</td>\n",
       "      <td>Lunch</td>\n",
       "      <td>3</td>\n",
       "    </tr>\n",
       "    <tr>\n",
       "      <th>224</th>\n",
       "      <td>13.42</td>\n",
       "      <td>1.58</td>\n",
       "      <td>Male</td>\n",
       "      <td>Yes</td>\n",
       "      <td>Fri</td>\n",
       "      <td>Lunch</td>\n",
       "      <td>2</td>\n",
       "    </tr>\n",
       "    <tr>\n",
       "      <th>225</th>\n",
       "      <td>16.27</td>\n",
       "      <td>2.50</td>\n",
       "      <td>Female</td>\n",
       "      <td>Yes</td>\n",
       "      <td>Fri</td>\n",
       "      <td>Lunch</td>\n",
       "      <td>2</td>\n",
       "    </tr>\n",
       "    <tr>\n",
       "      <th>226</th>\n",
       "      <td>10.09</td>\n",
       "      <td>2.00</td>\n",
       "      <td>Female</td>\n",
       "      <td>Yes</td>\n",
       "      <td>Fri</td>\n",
       "      <td>Lunch</td>\n",
       "      <td>2</td>\n",
       "    </tr>\n",
       "    <tr>\n",
       "      <th>227</th>\n",
       "      <td>20.45</td>\n",
       "      <td>3.00</td>\n",
       "      <td>Male</td>\n",
       "      <td>No</td>\n",
       "      <td>Sat</td>\n",
       "      <td>Dinner</td>\n",
       "      <td>4</td>\n",
       "    </tr>\n",
       "    <tr>\n",
       "      <th>228</th>\n",
       "      <td>13.28</td>\n",
       "      <td>2.72</td>\n",
       "      <td>Male</td>\n",
       "      <td>No</td>\n",
       "      <td>Sat</td>\n",
       "      <td>Dinner</td>\n",
       "      <td>2</td>\n",
       "    </tr>\n",
       "    <tr>\n",
       "      <th>229</th>\n",
       "      <td>22.12</td>\n",
       "      <td>2.88</td>\n",
       "      <td>Female</td>\n",
       "      <td>Yes</td>\n",
       "      <td>Sat</td>\n",
       "      <td>Dinner</td>\n",
       "      <td>2</td>\n",
       "    </tr>\n",
       "    <tr>\n",
       "      <th>230</th>\n",
       "      <td>24.01</td>\n",
       "      <td>2.00</td>\n",
       "      <td>Male</td>\n",
       "      <td>Yes</td>\n",
       "      <td>Sat</td>\n",
       "      <td>Dinner</td>\n",
       "      <td>4</td>\n",
       "    </tr>\n",
       "    <tr>\n",
       "      <th>231</th>\n",
       "      <td>15.69</td>\n",
       "      <td>3.00</td>\n",
       "      <td>Male</td>\n",
       "      <td>Yes</td>\n",
       "      <td>Sat</td>\n",
       "      <td>Dinner</td>\n",
       "      <td>3</td>\n",
       "    </tr>\n",
       "    <tr>\n",
       "      <th>232</th>\n",
       "      <td>11.61</td>\n",
       "      <td>3.39</td>\n",
       "      <td>Male</td>\n",
       "      <td>No</td>\n",
       "      <td>Sat</td>\n",
       "      <td>Dinner</td>\n",
       "      <td>2</td>\n",
       "    </tr>\n",
       "    <tr>\n",
       "      <th>233</th>\n",
       "      <td>10.77</td>\n",
       "      <td>1.47</td>\n",
       "      <td>Male</td>\n",
       "      <td>No</td>\n",
       "      <td>Sat</td>\n",
       "      <td>Dinner</td>\n",
       "      <td>2</td>\n",
       "    </tr>\n",
       "    <tr>\n",
       "      <th>234</th>\n",
       "      <td>15.53</td>\n",
       "      <td>3.00</td>\n",
       "      <td>Male</td>\n",
       "      <td>Yes</td>\n",
       "      <td>Sat</td>\n",
       "      <td>Dinner</td>\n",
       "      <td>2</td>\n",
       "    </tr>\n",
       "    <tr>\n",
       "      <th>235</th>\n",
       "      <td>10.07</td>\n",
       "      <td>1.25</td>\n",
       "      <td>Male</td>\n",
       "      <td>No</td>\n",
       "      <td>Sat</td>\n",
       "      <td>Dinner</td>\n",
       "      <td>2</td>\n",
       "    </tr>\n",
       "    <tr>\n",
       "      <th>236</th>\n",
       "      <td>12.60</td>\n",
       "      <td>1.00</td>\n",
       "      <td>Male</td>\n",
       "      <td>Yes</td>\n",
       "      <td>Sat</td>\n",
       "      <td>Dinner</td>\n",
       "      <td>2</td>\n",
       "    </tr>\n",
       "    <tr>\n",
       "      <th>237</th>\n",
       "      <td>32.83</td>\n",
       "      <td>1.17</td>\n",
       "      <td>Male</td>\n",
       "      <td>Yes</td>\n",
       "      <td>Sat</td>\n",
       "      <td>Dinner</td>\n",
       "      <td>2</td>\n",
       "    </tr>\n",
       "    <tr>\n",
       "      <th>238</th>\n",
       "      <td>35.83</td>\n",
       "      <td>4.67</td>\n",
       "      <td>Female</td>\n",
       "      <td>No</td>\n",
       "      <td>Sat</td>\n",
       "      <td>Dinner</td>\n",
       "      <td>3</td>\n",
       "    </tr>\n",
       "    <tr>\n",
       "      <th>239</th>\n",
       "      <td>29.03</td>\n",
       "      <td>5.92</td>\n",
       "      <td>Male</td>\n",
       "      <td>No</td>\n",
       "      <td>Sat</td>\n",
       "      <td>Dinner</td>\n",
       "      <td>3</td>\n",
       "    </tr>\n",
       "    <tr>\n",
       "      <th>240</th>\n",
       "      <td>27.18</td>\n",
       "      <td>2.00</td>\n",
       "      <td>Female</td>\n",
       "      <td>Yes</td>\n",
       "      <td>Sat</td>\n",
       "      <td>Dinner</td>\n",
       "      <td>2</td>\n",
       "    </tr>\n",
       "    <tr>\n",
       "      <th>241</th>\n",
       "      <td>22.67</td>\n",
       "      <td>2.00</td>\n",
       "      <td>Male</td>\n",
       "      <td>Yes</td>\n",
       "      <td>Sat</td>\n",
       "      <td>Dinner</td>\n",
       "      <td>2</td>\n",
       "    </tr>\n",
       "    <tr>\n",
       "      <th>242</th>\n",
       "      <td>17.82</td>\n",
       "      <td>1.75</td>\n",
       "      <td>Male</td>\n",
       "      <td>No</td>\n",
       "      <td>Sat</td>\n",
       "      <td>Dinner</td>\n",
       "      <td>2</td>\n",
       "    </tr>\n",
       "    <tr>\n",
       "      <th>243</th>\n",
       "      <td>18.78</td>\n",
       "      <td>3.00</td>\n",
       "      <td>Female</td>\n",
       "      <td>No</td>\n",
       "      <td>Thur</td>\n",
       "      <td>Dinner</td>\n",
       "      <td>2</td>\n",
       "    </tr>\n",
       "  </tbody>\n",
       "</table>\n",
       "<p>244 rows × 7 columns</p>\n",
       "</div>"
      ],
      "text/plain": [
       "     total_bill   tip     sex smoker   day    time  size\n",
       "0         16.99  1.01  Female     No   Sun  Dinner     2\n",
       "1         10.34  1.66    Male     No   Sun  Dinner     3\n",
       "2         21.01  3.50    Male     No   Sun  Dinner     3\n",
       "3         23.68  3.31    Male     No   Sun  Dinner     2\n",
       "4         24.59  3.61  Female     No   Sun  Dinner     4\n",
       "5         25.29  4.71    Male     No   Sun  Dinner     4\n",
       "6          8.77  2.00    Male     No   Sun  Dinner     2\n",
       "7         26.88  3.12    Male     No   Sun  Dinner     4\n",
       "8         15.04  1.96    Male     No   Sun  Dinner     2\n",
       "9         14.78  3.23    Male     No   Sun  Dinner     2\n",
       "10        10.27  1.71    Male     No   Sun  Dinner     2\n",
       "11        35.26  5.00  Female     No   Sun  Dinner     4\n",
       "12        15.42  1.57    Male     No   Sun  Dinner     2\n",
       "13        18.43  3.00    Male     No   Sun  Dinner     4\n",
       "14        14.83  3.02  Female     No   Sun  Dinner     2\n",
       "15        21.58  3.92    Male     No   Sun  Dinner     2\n",
       "16        10.33  1.67  Female     No   Sun  Dinner     3\n",
       "17        16.29  3.71    Male     No   Sun  Dinner     3\n",
       "18        16.97  3.50  Female     No   Sun  Dinner     3\n",
       "19        20.65  3.35    Male     No   Sat  Dinner     3\n",
       "20        17.92  4.08    Male     No   Sat  Dinner     2\n",
       "21        20.29  2.75  Female     No   Sat  Dinner     2\n",
       "22        15.77  2.23  Female     No   Sat  Dinner     2\n",
       "23        39.42  7.58    Male     No   Sat  Dinner     4\n",
       "24        19.82  3.18    Male     No   Sat  Dinner     2\n",
       "25        17.81  2.34    Male     No   Sat  Dinner     4\n",
       "26        13.37  2.00    Male     No   Sat  Dinner     2\n",
       "27        12.69  2.00    Male     No   Sat  Dinner     2\n",
       "28        21.70  4.30    Male     No   Sat  Dinner     2\n",
       "29        19.65  3.00  Female     No   Sat  Dinner     2\n",
       "..          ...   ...     ...    ...   ...     ...   ...\n",
       "214       28.17  6.50  Female    Yes   Sat  Dinner     3\n",
       "215       12.90  1.10  Female    Yes   Sat  Dinner     2\n",
       "216       28.15  3.00    Male    Yes   Sat  Dinner     5\n",
       "217       11.59  1.50    Male    Yes   Sat  Dinner     2\n",
       "218        7.74  1.44    Male    Yes   Sat  Dinner     2\n",
       "219       30.14  3.09  Female    Yes   Sat  Dinner     4\n",
       "220       12.16  2.20    Male    Yes   Fri   Lunch     2\n",
       "221       13.42  3.48  Female    Yes   Fri   Lunch     2\n",
       "222        8.58  1.92    Male    Yes   Fri   Lunch     1\n",
       "223       15.98  3.00  Female     No   Fri   Lunch     3\n",
       "224       13.42  1.58    Male    Yes   Fri   Lunch     2\n",
       "225       16.27  2.50  Female    Yes   Fri   Lunch     2\n",
       "226       10.09  2.00  Female    Yes   Fri   Lunch     2\n",
       "227       20.45  3.00    Male     No   Sat  Dinner     4\n",
       "228       13.28  2.72    Male     No   Sat  Dinner     2\n",
       "229       22.12  2.88  Female    Yes   Sat  Dinner     2\n",
       "230       24.01  2.00    Male    Yes   Sat  Dinner     4\n",
       "231       15.69  3.00    Male    Yes   Sat  Dinner     3\n",
       "232       11.61  3.39    Male     No   Sat  Dinner     2\n",
       "233       10.77  1.47    Male     No   Sat  Dinner     2\n",
       "234       15.53  3.00    Male    Yes   Sat  Dinner     2\n",
       "235       10.07  1.25    Male     No   Sat  Dinner     2\n",
       "236       12.60  1.00    Male    Yes   Sat  Dinner     2\n",
       "237       32.83  1.17    Male    Yes   Sat  Dinner     2\n",
       "238       35.83  4.67  Female     No   Sat  Dinner     3\n",
       "239       29.03  5.92    Male     No   Sat  Dinner     3\n",
       "240       27.18  2.00  Female    Yes   Sat  Dinner     2\n",
       "241       22.67  2.00    Male    Yes   Sat  Dinner     2\n",
       "242       17.82  1.75    Male     No   Sat  Dinner     2\n",
       "243       18.78  3.00  Female     No  Thur  Dinner     2\n",
       "\n",
       "[244 rows x 7 columns]"
      ]
     },
     "execution_count": 2,
     "metadata": {},
     "output_type": "execute_result"
    }
   ],
   "source": [
    "tips #Print the tips dataset"
   ]
  },
  {
   "cell_type": "code",
   "execution_count": 3,
   "metadata": {},
   "outputs": [
    {
     "name": "stderr",
     "output_type": "stream",
     "text": [
      "C:\\ProgrammingApps\\Anaconda3\\lib\\site-packages\\scipy\\stats\\stats.py:1713: FutureWarning: Using a non-tuple sequence for multidimensional indexing is deprecated; use `arr[tuple(seq)]` instead of `arr[seq]`. In the future this will be interpreted as an array index, `arr[np.array(seq)]`, which will result either in an error or a different result.\n",
      "  return np.add.reduce(sorted[indexer] * weights, axis=axis) / sumval\n"
     ]
    },
    {
     "data": {
      "text/plain": [
       "<seaborn.axisgrid.PairGrid at 0x233c7a4ecc0>"
      ]
     },
     "execution_count": 3,
     "metadata": {},
     "output_type": "execute_result"
    },
    {
     "data": {
      "image/png": "[encoded data removed]",
      "text/plain": [
       "<Figure size 602.35x540 with 12 Axes>"
      ]
     },
     "metadata": {
      "needs_background": "light"
     },
     "output_type": "display_data"
    }
   ],
   "source": [
    "sns.pairplot(data=tips, hue=\"day\") # Pairplot of the variables total_bill, tip and size on each day"
   ]
  },
  {
   "cell_type": "markdown",
   "metadata": {},
   "source": [
    "-------------------------------------------------------------------------------------------------------------------------------\n",
    "## <font color='red'>The relationship between the total bill and the tip given</font>\n",
    "\n",
    " - (1a) Plots that represent the given data\n",
    " - (1b) What percentage of people rounded off their bill to a whole number?\n",
    " - (1c) What percentage tips did people give on average?\n",
    " \n",
    "### (1a) Plots that represent the given data"
   ]
  },
  {
   "cell_type": "code",
   "execution_count": 4,
   "metadata": {},
   "outputs": [
    {
     "data": {
      "image/png": "[encoded data removed]",
      "text/plain": [
       "<Figure size 360x360 with 1 Axes>"
      ]
     },
     "metadata": {
      "needs_background": "light"
     },
     "output_type": "display_data"
    }
   ],
   "source": [
    "sns.relplot(x=\"total_bill\", y=\"tip\", data=tips); #Plot the tips vatiables total_bill vs tip"
   ]
  },
  {
   "cell_type": "code",
   "execution_count": 5,
   "metadata": {},
   "outputs": [
    {
     "data": {
      "image/png": "[encoded data removed]",
      "text/plain": [
       "<Figure size 435.725x360 with 1 Axes>"
      ]
     },
     "metadata": {
      "needs_background": "light"
     },
     "output_type": "display_data"
    }
   ],
   "source": [
    "#Plot the tips vatiables total_bill vs tip, with a different color for smokers\n",
    "sns.relplot(x=\"total_bill\", y=\"tip\", hue=\"smoker\", data=tips); "
   ]
  },
  {
   "cell_type": "code",
   "execution_count": 6,
   "metadata": {},
   "outputs": [
    {
     "data": {
      "text/plain": [
       "<seaborn.axisgrid.FacetGrid at 0x233c96615f8>"
      ]
     },
     "execution_count": 6,
     "metadata": {},
     "output_type": "execute_result"
    },
    {
     "data": {
      "image/png": "[encoded data removed]",
      "text/plain": [
       "<Figure size 360x360 with 1 Axes>"
      ]
     },
     "metadata": {
      "needs_background": "light"
     },
     "output_type": "display_data"
    }
   ],
   "source": [
    "sns.lmplot(x=\"total_bill\", y=\"tip\", data=tips)"
   ]
  },
  {
   "cell_type": "code",
   "execution_count": 7,
   "metadata": {},
   "outputs": [
    {
     "data": {
      "text/plain": [
       "<seaborn.axisgrid.FacetGrid at 0x233c9685e10>"
      ]
     },
     "execution_count": 7,
     "metadata": {},
     "output_type": "execute_result"
    },
    {
     "data": {
      "image/png": "[encoded data removed]",
      "text/plain": [
       "<Figure size 360x360 with 1 Axes>"
      ]
     },
     "metadata": {
      "needs_background": "light"
     },
     "output_type": "display_data"
    }
   ],
   "source": [
    "sns.relplot('total_bill', 'tip', data=tips, kind='line')"
   ]
  },
  {
   "cell_type": "markdown",
   "metadata": {},
   "source": [
    "The two graphs aboves show the correlation between the total_bill and the tips given, With the second one showing the smokers and non smokers. It is clear that there is no difference in the tip given by a smoker or a non smoker\n",
    "\n",
    "From having a quick look at the graphs you can see that the majority of people had a total bill of between 10-25 dollars and gave a tip between 2-4 dollars"
   ]
  },
  {
   "cell_type": "markdown",
   "metadata": {},
   "source": [
    "### (1b) What percentage of people rounded off their bill to a whole number?"
   ]
  },
  {
   "cell_type": "code",
   "execution_count": 29,
   "metadata": {},
   "outputs": [
    {
     "name": "stdout",
     "output_type": "stream",
     "text": [
      "\n",
      "24.59% or 60 tables out of 244 for that weekend rounded their bill to a whole number\n"
     ]
    }
   ],
   "source": [
    "with open(\"tips.csv\",'r') as df: #open the tips csv file\n",
    "    count=0\n",
    "    num = 0\n",
    "    bills = 0\n",
    "    reader = csv.reader(df, delimiter=',')\n",
    "    for row in reader:\n",
    "        bills = bills+1\n",
    "        if count > 0:\n",
    "            total = float(row[0])+float(row[1])\n",
    "            if str(total).endswith(\".0\"):\n",
    "                num=num+1\n",
    "                #print(round(total,2), \"  NUMBERS:\",row[0],\"TIPS:\",row[1],\"*******\")\n",
    "            else:continue\n",
    "                #print(round(total,2), \"  NUMBERS:\",row[0],\"TIPS:\",row[1])\n",
    "        else:\n",
    "            count = count+1\n",
    "    print()\n",
    "    print(str(round((num/(bills-1))*100,2))+\"% or\",num, \"tables out of\",bills-1,\"for that weekend rounded their bill to a whole number\")"
   ]
  },
  {
   "cell_type": "markdown",
   "metadata": {},
   "source": [
    "### (1c) What percentage tips did people give on average?"
   ]
  },
  {
   "cell_type": "code",
   "execution_count": 9,
   "metadata": {},
   "outputs": [
    {
     "name": "stdout",
     "output_type": "stream",
     "text": [
      "   Tip averages  0-10%  10-20%  >20%\n",
      "0                   39     166    39\n",
      "1  Total Tables    244              \n"
     ]
    }
   ],
   "source": [
    "with open(\"tips.csv\",'r') as df: #Open the tips csv file\n",
    "    count=0\n",
    "    tipLow = 0\n",
    "    maleLow = 0\n",
    "    femaleLow = 0\n",
    "    tipMed = 0\n",
    "    maleMed = 0\n",
    "    femaleMed = 0\n",
    "    tipHigh = 0\n",
    "    maleHigh = 0\n",
    "    femaleHigh = 0\n",
    "    reader = csv.reader(df, delimiter=',')\n",
    "    for row in reader:\n",
    "        if count > 0:\n",
    "            count = count+1\n",
    "            total = (float(row[1])/float(row[0]))*100\n",
    "            if total >0 and total< 11:\n",
    "                tipLow = tipLow+1\n",
    "                if row[2] == \"Male\":maleLow=maleLow+1\n",
    "                elif row[2] == \"Female\":femaleLow=femaleLow+1\n",
    "            elif total >10 and total< 20:\n",
    "                tipMed= tipMed+1\n",
    "                if row[2] == \"Male\":maleMed=maleMed+1\n",
    "                elif row[2] == \"Female\":femaleMed=femaleMed+1\n",
    "            else:\n",
    "                tipHigh = tipHigh+1\n",
    "                if row[2] == \"Male\":maleHigh=maleHigh+1\n",
    "                elif row[2] == \"Female\":femaleHigh=femaleHigh+1\n",
    "        else:\n",
    "            count = count+1\n",
    "    \n",
    "    #print(tipLow,\" \",tipMed,\" \",tipHigh)\n",
    "    \n",
    "    data = {'Tip averages':['','Total Tables'],'0-10%':[tipLow,count-1],' 10-20%':[tipMed,''],' >20%':[tipHigh,'']}\n",
    " \n",
    "    # Create DataFrame\n",
    "    df = pd.DataFrame(data)\n",
    "    print(df)\n",
    "    \n"
   ]
  },
  {
   "cell_type": "code",
   "execution_count": 10,
   "metadata": {},
   "outputs": [
    {
     "data": {
      "text/plain": [
       "<BarContainer object of 3 artists>"
      ]
     },
     "execution_count": 10,
     "metadata": {},
     "output_type": "execute_result"
    },
    {
     "data": {
      "image/png": "[encoded data removed]",
      "text/plain": [
       "<Figure size 432x288 with 1 Axes>"
      ]
     },
     "metadata": {
      "needs_background": "light"
     },
     "output_type": "display_data"
    }
   ],
   "source": [
    "percentages = [\"0-10%\",\"10-20%\",\"> 20%\"]\n",
    "values = [tipLow,tipMed,tipHigh]\n",
    "\n",
    "plt.bar(percentages,values)"
   ]
  },
  {
   "cell_type": "code",
   "execution_count": 11,
   "metadata": {},
   "outputs": [
    {
     "name": "stdout",
     "output_type": "stream",
     "text": [
      "32 males and 7 females gave a tip between 0-10%\n",
      "101 males and 65 females gave a tip between 10-20%\n",
      "24 males and 15 females gave a tip greater than 20%\n"
     ]
    }
   ],
   "source": [
    "print(maleLow,\"males and\",femaleLow,\"females gave a tip between 0-10%\")\n",
    "print(maleMed,\"males and\",femaleMed,\"females gave a tip between 10-20%\")\n",
    "print(maleHigh,\"males and\",femaleHigh,\"females gave a tip greater than 20%\")\n"
   ]
  },
  {
   "cell_type": "markdown",
   "metadata": {},
   "source": [
    "-------------------------------------------------------------------------------------------------------------------------------\n",
    "## <font color='red'>Sex variable and how it related to the total bill & tip given</font>\n",
    "\n",
    " - (2a) Plots to show the relationship between sex and tip given\n",
    " - (2b) Is there a relation between the meal time and the sex paying? "
   ]
  },
  {
   "cell_type": "markdown",
   "metadata": {},
   "source": [
    "The next variable i am going to look at is the sex variable. Since there are many different group sizes and since it does not state how many men and how many women are in the group i am going to take that the sex that is marked in the tips dataset is the sex of the person paying the bill.\n",
    "\n",
    "### (2a) Plots to show the relationship between sex and tip given"
   ]
  },
  {
   "cell_type": "code",
   "execution_count": 12,
   "metadata": {},
   "outputs": [
    {
     "data": {
      "image/png": "[encoded data removed]",
      "text/plain": [
       "<Figure size 360x360 with 1 Axes>"
      ]
     },
     "metadata": {
      "needs_background": "light"
     },
     "output_type": "display_data"
    }
   ],
   "source": [
    "sns.relplot(x=\"sex\", y=\"tip\", data=tips); #Plot of sex vs tip"
   ]
  },
  {
   "cell_type": "code",
   "execution_count": 13,
   "metadata": {},
   "outputs": [
    {
     "data": {
      "image/png": "[encoded data removed]",
      "text/plain": [
       "<Figure size 432.225x360 with 1 Axes>"
      ]
     },
     "metadata": {
      "needs_background": "light"
     },
     "output_type": "display_data"
    }
   ],
   "source": [
    "#Plot of sex vs tip with a different colour for the time of day\n",
    "sns.relplot(x=\"sex\", y=\"tip\", hue=\"time\" ,data=tips); "
   ]
  },
  {
   "cell_type": "markdown",
   "metadata": {},
   "source": [
    "From the above two graphs we can see that the tips are relatively split between the men and the women with the exception of a few tips between the 6-10 area given by the men. \n",
    "In the second graph just by looking we can estimate that lunch was mainly paid by Females with the blue dots and that Dinner was paid mainly by men with the orange dots.\n",
    "\n",
    "### (2b) Is there a relation between the meal time and the sex paying? \n",
    "\n",
    "In the next cell i will calculate the percentages of each meal paid by males and females."
   ]
  },
  {
   "cell_type": "code",
   "execution_count": 14,
   "metadata": {},
   "outputs": [
    {
     "name": "stdout",
     "output_type": "stream",
     "text": [
      "51% of lunch was paid by Females with the remaining 49% being paid by Males\n",
      "30% of Dinner was paid by Females with the remaining 70% being paid by Males\n"
     ]
    }
   ],
   "source": [
    "with open(\"tips.csv\",'r') as df:\n",
    "    FLunch = 0\n",
    "    FDinner = 0\n",
    "    MLunch = 0\n",
    "    MDinner = 0\n",
    "    reader = csv.reader(df, delimiter=',')\n",
    "    for row in reader:\n",
    "        if row[2] == \"Female\" and row[5] == \"Dinner\":\n",
    "            FDinner = FDinner +1\n",
    "        elif row[2] == \"Female\" and row[5] == \"Lunch\":\n",
    "            FLunch = FLunch +1\n",
    "        elif row[2] == \"Male\" and row[5] == \"Dinner\":\n",
    "            MDinner = MDinner +1\n",
    "        elif row[2] == \"Male\" and row[5] == \"Lunch\":\n",
    "            MLunch = MLunch +1\n",
    "        else:\n",
    "            continue\n",
    "    DinPercent = (FDinner/(FDinner + MDinner))*100\n",
    "    LunPercent = (FLunch/(FLunch + MLunch))*100\n",
    "    print(str(int(round(LunPercent,0)))+\"%\",\"of lunch was paid by Females with the remaining\",str(int (100-round(LunPercent)))+\"% being paid by Males\")\n",
    "    print(str(int(round(DinPercent,0)))+\"%\",\"of Dinner was paid by Females with the remaining\",str(int(100-round(DinPercent)))+\"% being paid by Males\")"
   ]
  },
  {
   "cell_type": "code",
   "execution_count": 15,
   "metadata": {},
   "outputs": [
    {
     "data": {
      "text/plain": [
       "<seaborn.axisgrid.FacetGrid at 0x233c9606390>"
      ]
     },
     "execution_count": 15,
     "metadata": {},
     "output_type": "execute_result"
    },
    {
     "data": {
      "image/png": "[encoded data removed]",
      "text/plain": [
       "<Figure size 360x360 with 1 Axes>"
      ]
     },
     "metadata": {
      "needs_background": "light"
     },
     "output_type": "display_data"
    }
   ],
   "source": [
    "sns.catplot(x=\"sex\", y=\"tip\", data=tips)"
   ]
  },
  {
   "cell_type": "markdown",
   "metadata": {},
   "source": [
    "From calculating the lunch and dinner slots it shows that 51% of Females paid for lunch and 70% of Males paid for dinner.\n",
    "\n",
    "There is a smaller gap than origionally thought between the males and females paying for lunch with only 2% difference. But from the graph it was clear that the Males mainly paid for dinner and that is now proven by the above calculations"
   ]
  },
  {
   "cell_type": "markdown",
   "metadata": {},
   "source": [
    "-------------------------------------------------------------------------------------------------------------------------------\n",
    "## <font color='red'>Tip given in relation to the Day</font>\n",
    "\n",
    " - (3a) Plot to show the relationship between the Tip given and day of the week\n",
    " - (3b) Breakdown of the total tips over the four days\n",
    " - (3c) Color plot of where the majority of tips came from on each day"
   ]
  },
  {
   "cell_type": "markdown",
   "metadata": {},
   "source": [
    "### (3a) Plot to show the relationship between the Tip given and day of the week"
   ]
  },
  {
   "cell_type": "code",
   "execution_count": 16,
   "metadata": {},
   "outputs": [
    {
     "data": {
      "image/png": "[encoded data removed]",
      "text/plain": [
       "<Figure size 432x288 with 1 Axes>"
      ]
     },
     "metadata": {
      "needs_background": "light"
     },
     "output_type": "display_data"
    }
   ],
   "source": [
    "#Barchart of the total tips for each day\n",
    "sns.barplot(x=\"day\", y=\"tip\", data=tips);"
   ]
  },
  {
   "cell_type": "markdown",
   "metadata": {},
   "source": [
    "From the graph above the highest days for tips were Saturday and Sunday, This would be expected as the restaurant would be busier at the weekend compared to a weekday\n",
    "\n",
    "### (3b) Breakdown of the total tips over the four days\n",
    "\n",
    "In the code below i will calculate the total amount of tips over the four days, I will also show how much was given each day and at what time of the day (Lunch or Dinner)"
   ]
  },
  {
   "cell_type": "code",
   "execution_count": 17,
   "metadata": {},
   "outputs": [
    {
     "name": "stdout",
     "output_type": "stream",
     "text": [
      "Total tips from Thurday to Sunday is 731.58\n",
      "Thursdays tips were total:  171.83\n",
      "     Lunch: 168.83\n",
      "     Dinner: 3.0\n",
      "Fridays tips were total:  51.96\n",
      "     Lunch: 16.68\n",
      "     Dinner: 35.28\n",
      "Saturdays tips were total:  260.4\n",
      "     Lunch: 0.0\n",
      "     Dinner: 260.4\n",
      "Sundays tips were total:  247.39\n",
      "     Lunch: 0.0\n",
      "     Dinner: 247.39\n"
     ]
    }
   ],
   "source": [
    "with open(\"tips.csv\",'r') as df:\n",
    "    total_tips = 0.0\n",
    "    count=0\n",
    "    tipthurs,lunThur,dinThur=0.0,0.0,0.0\n",
    "    tipFri,lunFri,dinFri=0.0,0.0,0.0\n",
    "    tipSat,lunSat,dinSat=0.0,0.0,0.0\n",
    "    tipSun,lunSun,dinSun=0.0,0.0,0.0\n",
    "    \n",
    "    reader = csv.reader(df, delimiter=',')\n",
    "    for row in reader:\n",
    "        if count > 0:\n",
    "            total_tips = total_tips + float(row[1])\n",
    "            count=count+1\n",
    "            if row[4] == \"Thur\":\n",
    "                tipthurs=tipthurs+ float(row[1])\n",
    "                if row[5]== \"Dinner\":dinThur=dinThur+float(row[1])\n",
    "                elif row[5]==\"Lunch\":lunThur=lunThur+float(row[1])\n",
    "            elif row[4] == \"Fri\":\n",
    "                tipFri=tipFri+ float(row[1])\n",
    "                if row[5]== \"Dinner\":dinFri=dinFri+float(row[1])\n",
    "                elif row[5]==\"Lunch\":lunFri=lunFri+float(row[1])\n",
    "            elif row[4] == \"Sat\":\n",
    "                tipSat=tipSat+ float(row[1])\n",
    "                if row[5]== \"Dinner\":dinSat=dinSat+float(row[1])\n",
    "                elif row[5]==\"Lunch\":lunSat=lunSat+float(row[1])\n",
    "            elif row[4] == \"Sun\":\n",
    "                tipSun=tipSun+ float(row[1])\n",
    "                if row[5]== \"Dinner\":dinSun=dinSun+float(row[1])\n",
    "                elif row[5]==\"Lunch\":lunSun=lunSun+float(row[1])\n",
    "            \n",
    "        else:\n",
    "            count = count+1\n",
    "    print(\"Total tips from Thurday to Sunday is\",total_tips)\n",
    "    print(\"Thursdays tips were total: \",tipthurs)\n",
    "    print(\"     Lunch:\",lunThur)\n",
    "    print(\"     Dinner:\",dinThur)\n",
    "    print(\"Fridays tips were total: \",tipFri)\n",
    "    print(\"     Lunch:\",lunFri)\n",
    "    print(\"     Dinner:\",dinFri)\n",
    "    print(\"Saturdays tips were total: \",round(tipSat,2))\n",
    "    print(\"     Lunch:\",lunSat)\n",
    "    print(\"     Dinner:\",round(dinSat,2))\n",
    "    print(\"Sundays tips were total: \",round(tipSun,2))\n",
    "    print(\"     Lunch:\",lunSun)\n",
    "    print(\"     Dinner:\",round(dinSun,2))\n",
    "    "
   ]
  },
  {
   "cell_type": "code",
   "execution_count": 18,
   "metadata": {},
   "outputs": [
    {
     "data": {
      "text/html": [
       "<div>\n",
       "<style scoped>\n",
       "    .dataframe tbody tr th:only-of-type {\n",
       "        vertical-align: middle;\n",
       "    }\n",
       "\n",
       "    .dataframe tbody tr th {\n",
       "        vertical-align: top;\n",
       "    }\n",
       "\n",
       "    .dataframe thead th {\n",
       "        text-align: right;\n",
       "    }\n",
       "</style>\n",
       "<table border=\"1\" class=\"dataframe\">\n",
       "  <thead>\n",
       "    <tr style=\"text-align: right;\">\n",
       "      <th></th>\n",
       "      <th>total_bill</th>\n",
       "      <th>tip</th>\n",
       "      <th>size</th>\n",
       "    </tr>\n",
       "    <tr>\n",
       "      <th>time</th>\n",
       "      <th></th>\n",
       "      <th></th>\n",
       "      <th></th>\n",
       "    </tr>\n",
       "  </thead>\n",
       "  <tbody>\n",
       "    <tr>\n",
       "      <th>Lunch</th>\n",
       "      <td>1167.47</td>\n",
       "      <td>185.51</td>\n",
       "      <td>164</td>\n",
       "    </tr>\n",
       "    <tr>\n",
       "      <th>Dinner</th>\n",
       "      <td>3660.30</td>\n",
       "      <td>546.07</td>\n",
       "      <td>463</td>\n",
       "    </tr>\n",
       "  </tbody>\n",
       "</table>\n",
       "</div>"
      ],
      "text/plain": [
       "        total_bill     tip  size\n",
       "time                            \n",
       "Lunch      1167.47  185.51   164\n",
       "Dinner     3660.30  546.07   463"
      ]
     },
     "execution_count": 18,
     "metadata": {},
     "output_type": "execute_result"
    }
   ],
   "source": [
    "tips.groupby('time').sum()"
   ]
  },
  {
   "cell_type": "markdown",
   "metadata": {},
   "source": [
    "### (3c) Color plot of where the majority of tips came from on each day\n",
    "\n",
    "In the plot below it will show what times of the day the tips were given, Blue for Lunch and orange for Dinner"
   ]
  },
  {
   "cell_type": "code",
   "execution_count": 19,
   "metadata": {},
   "outputs": [
    {
     "data": {
      "text/plain": [
       "<seaborn.axisgrid.FacetGrid at 0x233c9627978>"
      ]
     },
     "execution_count": 19,
     "metadata": {},
     "output_type": "execute_result"
    },
    {
     "data": {
      "image/png": "[encoded data removed]",
      "text/plain": [
       "<Figure size 432.225x360 with 1 Axes>"
      ]
     },
     "metadata": {
      "needs_background": "light"
     },
     "output_type": "display_data"
    }
   ],
   "source": [
    "#plot a graph with what time people came to the restaurant\n",
    "sns.catplot(x=\"day\", y=\"total_bill\", hue='time', data=tips) "
   ]
  },
  {
   "cell_type": "markdown",
   "metadata": {},
   "source": [
    "After analysing the data of the tips given on each day i have come to some conclusions\n",
    "1. This restaurant does not open for lunch on Saturday and Sunday as no tip is given and no table is marked\n",
    "2. This restaurant is located in a central location as Lunch tips on Thursdday are high\n",
    "3. People in the working industry tend to get paid on a Thursday so this may result to them eating our for lunch"
   ]
  },
  {
   "cell_type": "markdown",
   "metadata": {},
   "source": [
    "## <font color='red'>Total bill and Tip in relation to Size of the group</font>\n",
    "\n",
    " - (4a) Average bill price per person\n",
    " - (4b) What Group Sizes gave the best tip"
   ]
  },
  {
   "cell_type": "markdown",
   "metadata": {},
   "source": [
    "### (4a) Average bill price per person\n",
    "\n",
    "In the code below i will calculate the average price of meal per person"
   ]
  },
  {
   "cell_type": "code",
   "execution_count": 20,
   "metadata": {},
   "outputs": [
    {
     "name": "stdout",
     "output_type": "stream",
     "text": [
      "The Average price per person is $7.7\n"
     ]
    }
   ],
   "source": [
    "with open(\"tips.csv\",'r') as df:\n",
    "    rowCount=0\n",
    "    TotalSize=0\n",
    "    overallTotalBill = 0.0\n",
    "    AvgPerPerson = 0.0\n",
    "    reader = csv.reader(df, delimiter=',')\n",
    "    for row in reader:\n",
    "        if rowCount>0:\n",
    "            TotalSize = TotalSize+ int(row[6])\n",
    "            overallTotalBill= overallTotalBill + float(row[0])\n",
    "        else:\n",
    "            rowCount = rowCount+1\n",
    "            \n",
    "    AvgPerPerson = overallTotalBill/TotalSize\n",
    "    print(\"The Average price per person is $\"+str(round(AvgPerPerson,2)))"
   ]
  },
  {
   "cell_type": "markdown",
   "metadata": {},
   "source": [
    "### (4b) What Group Sizes gave the best tip\n",
    "\n",
    "Below i will calculate what group size gave the largest percent tip in relation to the total_bill "
   ]
  },
  {
   "cell_type": "code",
   "execution_count": 21,
   "metadata": {},
   "outputs": [
    {
     "data": {
      "image/png": "[encoded data removed]",
      "text/plain": [
       "<Figure size 419.1x360 with 1 Axes>"
      ]
     },
     "metadata": {
      "needs_background": "light"
     },
     "output_type": "display_data"
    }
   ],
   "source": [
    "# Scatter plot of total_bill vs tips with table size a different colour\n",
    "sns.relplot(x=\"total_bill\", y=\"tip\",hue=\"size\", data=tips); "
   ]
  },
  {
   "cell_type": "markdown",
   "metadata": {},
   "source": [
    "Above is a scatter plot of the total_bill on the X-axis and the tip on the Y-axis, The Index shows what size group was in the restaurant"
   ]
  },
  {
   "cell_type": "code",
   "execution_count": 22,
   "metadata": {},
   "outputs": [
    {
     "name": "stdout",
     "output_type": "stream",
     "text": [
      "Percentages of each Group\n",
      "         0-10%  10-20%   >20%\n",
      "Size 2:   14      67      19\n",
      "Size 3:   18      68      13\n",
      "Size 4:   19      76      5\n",
      "Size 5:   40      40      20\n",
      "Size 6:   12      62      25\n"
     ]
    }
   ],
   "source": [
    "with open(\"tips.csv\",'r') as df:\n",
    "    count=0\n",
    "    SizeTwoLow,SizeThreeLow,SizeFourLow,SizeFiveLow,SizeSixLow = 0,0,0,0,0\n",
    "    SizeTwoMed,SizeThreeMed,SizeFourMed,SizeFiveMed,SizeSixMed = 0,0,0,0,0\n",
    "    SizeTwoHigh,SizeThreeHigh,SizeFourHigh,SizeFiveHigh,SizeSixHigh = 0,0,0,0,0\n",
    "    reader = csv.reader(df, delimiter=',')\n",
    "    for row in reader:\n",
    "        if count > 0:\n",
    "            count = count+1\n",
    "            total = (float(row[1])/float(row[0]))*100\n",
    "            if total >0 and total< 11:\n",
    "                if row[6] == \"2\":SizeTwoLow=SizeTwoLow+1\n",
    "                elif row[6] == \"3\":SizeThreeLow=SizeThreeLow+1\n",
    "                elif row[6] == \"4\":SizeFourLow=SizeFourLow+1\n",
    "                elif row[6] == \"5\":SizeFiveLow=SizeFiveLow+1\n",
    "                else:SizeSixLow=SizeSixLow+1\n",
    "            elif total >10 and total< 20:\n",
    "                if row[6] == \"2\":SizeTwoMed=SizeTwoMed+1\n",
    "                elif row[6] == \"3\":SizeThreeMed=SizeThreeMed+1\n",
    "                elif row[6] == \"4\":SizeFourMed=SizeFourMed+1\n",
    "                elif row[6] == \"5\":SizeFiveMed=SizeFiveMed+1\n",
    "                else:SizeSixMed=SizeSixMed+1\n",
    "            else:\n",
    "                if row[6] == \"2\":SizeTwoHigh=SizeTwoHigh+1\n",
    "                elif row[6] == \"3\":SizeThreeHigh=SizeThreeHigh+1\n",
    "                elif row[6] == \"4\":SizeFourHigh=SizeFourHigh+1\n",
    "                elif row[6] == \"5\":SizeFiveHigh=SizeFiveHigh+1\n",
    "                else:SizeSixHigh=SizeSixHigh+1\n",
    "                \n",
    "        else:\n",
    "            count = count+1\n",
    "    TotalTwo = SizeTwoLow+SizeTwoMed+SizeTwoHigh\n",
    "    TotalThree = SizeThreeLow+SizeThreeMed+SizeThreeHigh\n",
    "    TotalFour = SizeFourLow+SizeFourMed+SizeFourHigh\n",
    "    TotalFive = SizeFiveLow+SizeFiveMed+SizeFiveHigh\n",
    "    TotalSix = SizeSixLow+SizeSixMed+SizeSixHigh\n",
    "    \n",
    "    print(\"Percentages of each Group\")\n",
    "    print(\"         0-10%  10-20%   >20%\")\n",
    "    \n",
    "    TipTwoLowPerc = float((SizeTwoLow/TotalTwo)*100)\n",
    "    TipTwoMedPerc = float((SizeTwoMed/TotalTwo)*100)\n",
    "    TipTwoHighPerc = float((SizeTwoHigh/TotalTwo)*100)\n",
    "    print(\"Size 2:  \",round(TipTwoLowPerc),\"    \",round(TipTwoMedPerc),\"    \",round(TipTwoHighPerc))\n",
    "    \n",
    "    TipThreeLowPerc = float((SizeThreeLow/TotalThree)*100)\n",
    "    TipThreeMedPerc = float((SizeThreeMed/TotalThree)*100)\n",
    "    TipThreeHighPerc = float((SizeThreeHigh/TotalThree)*100)\n",
    "    print(\"Size 3:  \",round(TipThreeLowPerc),\"    \",round(TipThreeMedPerc),\"    \",round(TipThreeHighPerc))\n",
    "    \n",
    "    TipFourLowPerc = float((SizeFourLow/TotalFour)*100)\n",
    "    TipFourMedPerc = float((SizeFourMed/TotalFour)*100)\n",
    "    TipFourHighPerc = float((SizeFourHigh/TotalFour)*100)\n",
    "    print(\"Size 4:  \",round(TipFourLowPerc),\"    \",round(TipFourMedPerc),\"    \",round(TipFourHighPerc))\n",
    "    \n",
    "    TipFiveLowPerc = float((SizeFiveLow/TotalFive)*100)\n",
    "    TipFiveMedPerc = float((SizeFiveMed/TotalFive)*100)\n",
    "    TipFiveHighPerc = float((SizeFiveHigh/TotalFive)*100)\n",
    "    print(\"Size 5:  \",round(TipFiveLowPerc),\"    \",round(TipFiveMedPerc),\"    \",round(TipFiveHighPerc))\n",
    "     \n",
    "    TipSixLowPerc = float((SizeSixLow/TotalSix)*100)\n",
    "    TipSixMedPerc = float((SizeSixMed/TotalSix)*100)\n",
    "    TipSixHighPerc = float((SizeSixHigh/TotalSix)*100)\n",
    "    print(\"Size 6:  \",round(TipSixLowPerc),\"    \",round(TipSixMedPerc),\"    \",round(TipSixHighPerc))"
   ]
  },
  {
   "cell_type": "markdown",
   "metadata": {},
   "source": [
    "From the above table where the percentage tip is calculated in relation to the total bill,\n",
    "25% of tables with a group size of 6 gave a tip greater than 20%,\n",
    "Tables of 4 gave the highest in the range between 10-20% but the lowest overall in relation to tips above 20%\n",
    "\n",
    "For the staff members the best group sizes that they wish to see are groups of 2 and 6 as there is the best chance of a high tip"
   ]
  },
  {
   "cell_type": "markdown",
   "metadata": {},
   "source": [
    "## <font color='red'>Smoking and the time of the day</font>\n",
    "\n",
    " - (5a) Dataframe of sex, time and smoker\n",
    " - (5b) Was there a larger amount of smokers at lunch or dinner?"
   ]
  },
  {
   "cell_type": "markdown",
   "metadata": {},
   "source": [
    "### (5a) Dataframe of sex, time and smoker"
   ]
  },
  {
   "cell_type": "code",
   "execution_count": 23,
   "metadata": {},
   "outputs": [
    {
     "data": {
      "text/html": [
       "<div>\n",
       "<style scoped>\n",
       "    .dataframe tbody tr th:only-of-type {\n",
       "        vertical-align: middle;\n",
       "    }\n",
       "\n",
       "    .dataframe tbody tr th {\n",
       "        vertical-align: top;\n",
       "    }\n",
       "\n",
       "    .dataframe thead th {\n",
       "        text-align: right;\n",
       "    }\n",
       "</style>\n",
       "<table border=\"1\" class=\"dataframe\">\n",
       "  <thead>\n",
       "    <tr style=\"text-align: right;\">\n",
       "      <th></th>\n",
       "      <th>sex</th>\n",
       "      <th>time</th>\n",
       "      <th>smoker</th>\n",
       "    </tr>\n",
       "  </thead>\n",
       "  <tbody>\n",
       "    <tr>\n",
       "      <th>0</th>\n",
       "      <td>Female</td>\n",
       "      <td>Dinner</td>\n",
       "      <td>No</td>\n",
       "    </tr>\n",
       "    <tr>\n",
       "      <th>1</th>\n",
       "      <td>Male</td>\n",
       "      <td>Dinner</td>\n",
       "      <td>No</td>\n",
       "    </tr>\n",
       "    <tr>\n",
       "      <th>2</th>\n",
       "      <td>Male</td>\n",
       "      <td>Dinner</td>\n",
       "      <td>No</td>\n",
       "    </tr>\n",
       "    <tr>\n",
       "      <th>3</th>\n",
       "      <td>Male</td>\n",
       "      <td>Dinner</td>\n",
       "      <td>No</td>\n",
       "    </tr>\n",
       "    <tr>\n",
       "      <th>4</th>\n",
       "      <td>Female</td>\n",
       "      <td>Dinner</td>\n",
       "      <td>No</td>\n",
       "    </tr>\n",
       "    <tr>\n",
       "      <th>5</th>\n",
       "      <td>Male</td>\n",
       "      <td>Dinner</td>\n",
       "      <td>No</td>\n",
       "    </tr>\n",
       "    <tr>\n",
       "      <th>6</th>\n",
       "      <td>Male</td>\n",
       "      <td>Dinner</td>\n",
       "      <td>No</td>\n",
       "    </tr>\n",
       "    <tr>\n",
       "      <th>7</th>\n",
       "      <td>Male</td>\n",
       "      <td>Dinner</td>\n",
       "      <td>No</td>\n",
       "    </tr>\n",
       "    <tr>\n",
       "      <th>8</th>\n",
       "      <td>Male</td>\n",
       "      <td>Dinner</td>\n",
       "      <td>No</td>\n",
       "    </tr>\n",
       "    <tr>\n",
       "      <th>9</th>\n",
       "      <td>Male</td>\n",
       "      <td>Dinner</td>\n",
       "      <td>No</td>\n",
       "    </tr>\n",
       "    <tr>\n",
       "      <th>10</th>\n",
       "      <td>Male</td>\n",
       "      <td>Dinner</td>\n",
       "      <td>No</td>\n",
       "    </tr>\n",
       "    <tr>\n",
       "      <th>11</th>\n",
       "      <td>Female</td>\n",
       "      <td>Dinner</td>\n",
       "      <td>No</td>\n",
       "    </tr>\n",
       "    <tr>\n",
       "      <th>12</th>\n",
       "      <td>Male</td>\n",
       "      <td>Dinner</td>\n",
       "      <td>No</td>\n",
       "    </tr>\n",
       "    <tr>\n",
       "      <th>13</th>\n",
       "      <td>Male</td>\n",
       "      <td>Dinner</td>\n",
       "      <td>No</td>\n",
       "    </tr>\n",
       "    <tr>\n",
       "      <th>14</th>\n",
       "      <td>Female</td>\n",
       "      <td>Dinner</td>\n",
       "      <td>No</td>\n",
       "    </tr>\n",
       "    <tr>\n",
       "      <th>15</th>\n",
       "      <td>Male</td>\n",
       "      <td>Dinner</td>\n",
       "      <td>No</td>\n",
       "    </tr>\n",
       "    <tr>\n",
       "      <th>16</th>\n",
       "      <td>Female</td>\n",
       "      <td>Dinner</td>\n",
       "      <td>No</td>\n",
       "    </tr>\n",
       "    <tr>\n",
       "      <th>17</th>\n",
       "      <td>Male</td>\n",
       "      <td>Dinner</td>\n",
       "      <td>No</td>\n",
       "    </tr>\n",
       "    <tr>\n",
       "      <th>18</th>\n",
       "      <td>Female</td>\n",
       "      <td>Dinner</td>\n",
       "      <td>No</td>\n",
       "    </tr>\n",
       "    <tr>\n",
       "      <th>19</th>\n",
       "      <td>Male</td>\n",
       "      <td>Dinner</td>\n",
       "      <td>No</td>\n",
       "    </tr>\n",
       "    <tr>\n",
       "      <th>20</th>\n",
       "      <td>Male</td>\n",
       "      <td>Dinner</td>\n",
       "      <td>No</td>\n",
       "    </tr>\n",
       "    <tr>\n",
       "      <th>21</th>\n",
       "      <td>Female</td>\n",
       "      <td>Dinner</td>\n",
       "      <td>No</td>\n",
       "    </tr>\n",
       "    <tr>\n",
       "      <th>22</th>\n",
       "      <td>Female</td>\n",
       "      <td>Dinner</td>\n",
       "      <td>No</td>\n",
       "    </tr>\n",
       "    <tr>\n",
       "      <th>23</th>\n",
       "      <td>Male</td>\n",
       "      <td>Dinner</td>\n",
       "      <td>No</td>\n",
       "    </tr>\n",
       "    <tr>\n",
       "      <th>24</th>\n",
       "      <td>Male</td>\n",
       "      <td>Dinner</td>\n",
       "      <td>No</td>\n",
       "    </tr>\n",
       "    <tr>\n",
       "      <th>25</th>\n",
       "      <td>Male</td>\n",
       "      <td>Dinner</td>\n",
       "      <td>No</td>\n",
       "    </tr>\n",
       "    <tr>\n",
       "      <th>26</th>\n",
       "      <td>Male</td>\n",
       "      <td>Dinner</td>\n",
       "      <td>No</td>\n",
       "    </tr>\n",
       "    <tr>\n",
       "      <th>27</th>\n",
       "      <td>Male</td>\n",
       "      <td>Dinner</td>\n",
       "      <td>No</td>\n",
       "    </tr>\n",
       "    <tr>\n",
       "      <th>28</th>\n",
       "      <td>Male</td>\n",
       "      <td>Dinner</td>\n",
       "      <td>No</td>\n",
       "    </tr>\n",
       "    <tr>\n",
       "      <th>29</th>\n",
       "      <td>Female</td>\n",
       "      <td>Dinner</td>\n",
       "      <td>No</td>\n",
       "    </tr>\n",
       "    <tr>\n",
       "      <th>...</th>\n",
       "      <td>...</td>\n",
       "      <td>...</td>\n",
       "      <td>...</td>\n",
       "    </tr>\n",
       "    <tr>\n",
       "      <th>214</th>\n",
       "      <td>Female</td>\n",
       "      <td>Dinner</td>\n",
       "      <td>Yes</td>\n",
       "    </tr>\n",
       "    <tr>\n",
       "      <th>215</th>\n",
       "      <td>Female</td>\n",
       "      <td>Dinner</td>\n",
       "      <td>Yes</td>\n",
       "    </tr>\n",
       "    <tr>\n",
       "      <th>216</th>\n",
       "      <td>Male</td>\n",
       "      <td>Dinner</td>\n",
       "      <td>Yes</td>\n",
       "    </tr>\n",
       "    <tr>\n",
       "      <th>217</th>\n",
       "      <td>Male</td>\n",
       "      <td>Dinner</td>\n",
       "      <td>Yes</td>\n",
       "    </tr>\n",
       "    <tr>\n",
       "      <th>218</th>\n",
       "      <td>Male</td>\n",
       "      <td>Dinner</td>\n",
       "      <td>Yes</td>\n",
       "    </tr>\n",
       "    <tr>\n",
       "      <th>219</th>\n",
       "      <td>Female</td>\n",
       "      <td>Dinner</td>\n",
       "      <td>Yes</td>\n",
       "    </tr>\n",
       "    <tr>\n",
       "      <th>220</th>\n",
       "      <td>Male</td>\n",
       "      <td>Lunch</td>\n",
       "      <td>Yes</td>\n",
       "    </tr>\n",
       "    <tr>\n",
       "      <th>221</th>\n",
       "      <td>Female</td>\n",
       "      <td>Lunch</td>\n",
       "      <td>Yes</td>\n",
       "    </tr>\n",
       "    <tr>\n",
       "      <th>222</th>\n",
       "      <td>Male</td>\n",
       "      <td>Lunch</td>\n",
       "      <td>Yes</td>\n",
       "    </tr>\n",
       "    <tr>\n",
       "      <th>223</th>\n",
       "      <td>Female</td>\n",
       "      <td>Lunch</td>\n",
       "      <td>No</td>\n",
       "    </tr>\n",
       "    <tr>\n",
       "      <th>224</th>\n",
       "      <td>Male</td>\n",
       "      <td>Lunch</td>\n",
       "      <td>Yes</td>\n",
       "    </tr>\n",
       "    <tr>\n",
       "      <th>225</th>\n",
       "      <td>Female</td>\n",
       "      <td>Lunch</td>\n",
       "      <td>Yes</td>\n",
       "    </tr>\n",
       "    <tr>\n",
       "      <th>226</th>\n",
       "      <td>Female</td>\n",
       "      <td>Lunch</td>\n",
       "      <td>Yes</td>\n",
       "    </tr>\n",
       "    <tr>\n",
       "      <th>227</th>\n",
       "      <td>Male</td>\n",
       "      <td>Dinner</td>\n",
       "      <td>No</td>\n",
       "    </tr>\n",
       "    <tr>\n",
       "      <th>228</th>\n",
       "      <td>Male</td>\n",
       "      <td>Dinner</td>\n",
       "      <td>No</td>\n",
       "    </tr>\n",
       "    <tr>\n",
       "      <th>229</th>\n",
       "      <td>Female</td>\n",
       "      <td>Dinner</td>\n",
       "      <td>Yes</td>\n",
       "    </tr>\n",
       "    <tr>\n",
       "      <th>230</th>\n",
       "      <td>Male</td>\n",
       "      <td>Dinner</td>\n",
       "      <td>Yes</td>\n",
       "    </tr>\n",
       "    <tr>\n",
       "      <th>231</th>\n",
       "      <td>Male</td>\n",
       "      <td>Dinner</td>\n",
       "      <td>Yes</td>\n",
       "    </tr>\n",
       "    <tr>\n",
       "      <th>232</th>\n",
       "      <td>Male</td>\n",
       "      <td>Dinner</td>\n",
       "      <td>No</td>\n",
       "    </tr>\n",
       "    <tr>\n",
       "      <th>233</th>\n",
       "      <td>Male</td>\n",
       "      <td>Dinner</td>\n",
       "      <td>No</td>\n",
       "    </tr>\n",
       "    <tr>\n",
       "      <th>234</th>\n",
       "      <td>Male</td>\n",
       "      <td>Dinner</td>\n",
       "      <td>Yes</td>\n",
       "    </tr>\n",
       "    <tr>\n",
       "      <th>235</th>\n",
       "      <td>Male</td>\n",
       "      <td>Dinner</td>\n",
       "      <td>No</td>\n",
       "    </tr>\n",
       "    <tr>\n",
       "      <th>236</th>\n",
       "      <td>Male</td>\n",
       "      <td>Dinner</td>\n",
       "      <td>Yes</td>\n",
       "    </tr>\n",
       "    <tr>\n",
       "      <th>237</th>\n",
       "      <td>Male</td>\n",
       "      <td>Dinner</td>\n",
       "      <td>Yes</td>\n",
       "    </tr>\n",
       "    <tr>\n",
       "      <th>238</th>\n",
       "      <td>Female</td>\n",
       "      <td>Dinner</td>\n",
       "      <td>No</td>\n",
       "    </tr>\n",
       "    <tr>\n",
       "      <th>239</th>\n",
       "      <td>Male</td>\n",
       "      <td>Dinner</td>\n",
       "      <td>No</td>\n",
       "    </tr>\n",
       "    <tr>\n",
       "      <th>240</th>\n",
       "      <td>Female</td>\n",
       "      <td>Dinner</td>\n",
       "      <td>Yes</td>\n",
       "    </tr>\n",
       "    <tr>\n",
       "      <th>241</th>\n",
       "      <td>Male</td>\n",
       "      <td>Dinner</td>\n",
       "      <td>Yes</td>\n",
       "    </tr>\n",
       "    <tr>\n",
       "      <th>242</th>\n",
       "      <td>Male</td>\n",
       "      <td>Dinner</td>\n",
       "      <td>No</td>\n",
       "    </tr>\n",
       "    <tr>\n",
       "      <th>243</th>\n",
       "      <td>Female</td>\n",
       "      <td>Dinner</td>\n",
       "      <td>No</td>\n",
       "    </tr>\n",
       "  </tbody>\n",
       "</table>\n",
       "<p>244 rows × 3 columns</p>\n",
       "</div>"
      ],
      "text/plain": [
       "        sex    time smoker\n",
       "0    Female  Dinner     No\n",
       "1      Male  Dinner     No\n",
       "2      Male  Dinner     No\n",
       "3      Male  Dinner     No\n",
       "4    Female  Dinner     No\n",
       "5      Male  Dinner     No\n",
       "6      Male  Dinner     No\n",
       "7      Male  Dinner     No\n",
       "8      Male  Dinner     No\n",
       "9      Male  Dinner     No\n",
       "10     Male  Dinner     No\n",
       "11   Female  Dinner     No\n",
       "12     Male  Dinner     No\n",
       "13     Male  Dinner     No\n",
       "14   Female  Dinner     No\n",
       "15     Male  Dinner     No\n",
       "16   Female  Dinner     No\n",
       "17     Male  Dinner     No\n",
       "18   Female  Dinner     No\n",
       "19     Male  Dinner     No\n",
       "20     Male  Dinner     No\n",
       "21   Female  Dinner     No\n",
       "22   Female  Dinner     No\n",
       "23     Male  Dinner     No\n",
       "24     Male  Dinner     No\n",
       "25     Male  Dinner     No\n",
       "26     Male  Dinner     No\n",
       "27     Male  Dinner     No\n",
       "28     Male  Dinner     No\n",
       "29   Female  Dinner     No\n",
       "..      ...     ...    ...\n",
       "214  Female  Dinner    Yes\n",
       "215  Female  Dinner    Yes\n",
       "216    Male  Dinner    Yes\n",
       "217    Male  Dinner    Yes\n",
       "218    Male  Dinner    Yes\n",
       "219  Female  Dinner    Yes\n",
       "220    Male   Lunch    Yes\n",
       "221  Female   Lunch    Yes\n",
       "222    Male   Lunch    Yes\n",
       "223  Female   Lunch     No\n",
       "224    Male   Lunch    Yes\n",
       "225  Female   Lunch    Yes\n",
       "226  Female   Lunch    Yes\n",
       "227    Male  Dinner     No\n",
       "228    Male  Dinner     No\n",
       "229  Female  Dinner    Yes\n",
       "230    Male  Dinner    Yes\n",
       "231    Male  Dinner    Yes\n",
       "232    Male  Dinner     No\n",
       "233    Male  Dinner     No\n",
       "234    Male  Dinner    Yes\n",
       "235    Male  Dinner     No\n",
       "236    Male  Dinner    Yes\n",
       "237    Male  Dinner    Yes\n",
       "238  Female  Dinner     No\n",
       "239    Male  Dinner     No\n",
       "240  Female  Dinner    Yes\n",
       "241    Male  Dinner    Yes\n",
       "242    Male  Dinner     No\n",
       "243  Female  Dinner     No\n",
       "\n",
       "[244 rows x 3 columns]"
      ]
     },
     "execution_count": 23,
     "metadata": {},
     "output_type": "execute_result"
    }
   ],
   "source": [
    "tips [[\"sex\",\"time\", \"smoker\"]] #Print tips columns sex,time and smoker"
   ]
  },
  {
   "cell_type": "code",
   "execution_count": 24,
   "metadata": {},
   "outputs": [
    {
     "data": {
      "text/plain": [
       "smoker\n",
       "Yes     93\n",
       "No     151\n",
       "dtype: int64"
      ]
     },
     "execution_count": 24,
     "metadata": {},
     "output_type": "execute_result"
    }
   ],
   "source": [
    "tips.groupby(by='smoker').size() #number of people that smoked"
   ]
  },
  {
   "cell_type": "markdown",
   "metadata": {},
   "source": [
    "### (5b) Was there a larger amount of smokers at lunch or dinner?\n",
    "\n",
    "Below i will calculate how many of the tables at lunch and dinner smoked?"
   ]
  },
  {
   "cell_type": "code",
   "execution_count": 25,
   "metadata": {},
   "outputs": [
    {
     "name": "stdout",
     "output_type": "stream",
     "text": [
      "Smokers at Lunch:  23\n",
      "Smokers at Dinner:  70\n"
     ]
    }
   ],
   "source": [
    "with open(\"tips.csv\",'r') as df:\n",
    "    rowCount=0\n",
    "    smokerLunch,smokerDinner = 0,0\n",
    "    reader = csv.reader(df, delimiter=',')\n",
    "    for row in reader:\n",
    "        if rowCount>0:\n",
    "            if row[3] == \"Yes\":\n",
    "                if row[5] == \"Lunch\":\n",
    "                    smokerLunch=smokerLunch+1\n",
    "                else:\n",
    "                    smokerDinner=smokerDinner+1\n",
    "            elif row[3] == \"No\":\n",
    "                continue\n",
    "                \n",
    "        else:\n",
    "            rowCount = rowCount+1\n",
    "            \n",
    "    print(\"Smokers at Lunch: \",smokerLunch)\n",
    "    print(\"Smokers at Dinner: \",smokerDinner)"
   ]
  },
  {
   "cell_type": "code",
   "execution_count": 26,
   "metadata": {},
   "outputs": [
    {
     "data": {
      "text/plain": [
       "time\n",
       "Lunch      68\n",
       "Dinner    176\n",
       "dtype: int64"
      ]
     },
     "execution_count": 26,
     "metadata": {},
     "output_type": "execute_result"
    }
   ],
   "source": [
    "tips.groupby(by='time').size() #Calculate how many tables at lunch and dinner"
   ]
  },
  {
   "cell_type": "markdown",
   "metadata": {},
   "source": [
    "As the abover shows that alot more people smoked at dinner, This may be because there was a larger amount of tables booked for the dinner sitting\n",
    "\n",
    "Below i will calculate what percentage overall smoked for a more accurate result"
   ]
  },
  {
   "cell_type": "code",
   "execution_count": 27,
   "metadata": {},
   "outputs": [
    {
     "name": "stdout",
     "output_type": "stream",
     "text": [
      "33.82% Of tables smoked at Lunch\n",
      "39.77% Of tables smoked at Dinner\n"
     ]
    }
   ],
   "source": [
    "percSmokerLun = (smokerLunch/68)*100\n",
    "percSmokerDin = (smokerDinner/176)*100\n",
    "\n",
    "print(str(round(percSmokerLun,2))+\"% Of tables smoked at Lunch\")\n",
    "print(str(round(percSmokerDin,2))+\"% Of tables smoked at Dinner\")"
   ]
  },
  {
   "cell_type": "code",
   "execution_count": 28,
   "metadata": {},
   "outputs": [
    {
     "data": {
      "image/png": "[encoded data removed]",
      "text/plain": [
       "<Figure size 461.659x288 with 2 Axes>"
      ]
     },
     "metadata": {
      "needs_background": "light"
     },
     "output_type": "display_data"
    }
   ],
   "source": [
    "sns.catplot(x=\"sex\", y=\"total_bill\",\n",
    "...                 hue=\"smoker\", col=\"time\",\n",
    "...                 data=tips, kind=\"bar\",\n",
    "...                 height=4, aspect=.7);"
   ]
  },
  {
   "cell_type": "markdown",
   "metadata": {},
   "source": [
    "## Conclusion\n",
    "\n",
    "From studying and researching the Seaborn Tips dataset I realised that there is alot of ways the data can be studied to find out different information about the restaurant. The folling information was retrieved after analyzing the data.\n",
    "\n",
    " - 60 tables out of 244 rounded their bill to a whole number, (eg total_bill=16.99, tip=1.01, total=18.00)\n",
    " - 166 of them tables gave a tip between 10-20%\n",
    " - 51% of lunch was paid by Females with the remaining 49% being paid by Males\n",
    " - 30% of Dinner was paid by Females with the remaining 70% being paid by Males\n",
    " - The highest days for tips were Saturday and Sunday\n",
    " - Total tips from Thurday to Sunday was $731.58\n",
    " - No Tips were given at Lunch on Saturday or Sunday so my conclusion would be that they do not serve lunch on them days\n",
    " - 25% of tables with a group size of 6 gave a tip greater than 20%\n",
    " - Tables of 4 gave the highest in the range between 10-20% but the lowest overall in relation to tips above 20%\n",
    " - 33.82% Of tables smoked at Lunch\n",
    " - 39.77% Of tables smoked at Dinner"
   ]
  },
  {
   "cell_type": "markdown",
   "metadata": {},
   "source": [
    "## References\n",
    "\n",
    "- https://www.python.org/\n",
    "- https://www.anaconda.com/distribution/\n",
    "- https://github.com/mwaskom/seaborn-data/blob/master/tips.csv\n",
    "- https://seaborn.pydata.org/\n",
    "- https://www.kaggle.com/ranjeetjain3/seaborn-tips-dataset\n",
    "- https://seaborn.pydata.org/generated/seaborn.barplot.html"
   ]
  },
  {
   "cell_type": "markdown",
   "metadata": {},
   "source": [
    "## END"
   ]
  }
 ],
 "metadata": {
  "kernelspec": {
   "display_name": "Python 3",
   "language": "python",
   "name": "python3"
  },
  "language_info": {
   "codemirror_mode": {
    "name": "ipython",
    "version": 3
   },
   "file_extension": ".py",
   "mimetype": "text/x-python",
   "name": "python",
   "nbconvert_exporter": "python",
   "pygments_lexer": "ipython3",
   "version": "3.7.1"
  }
 },
 "nbformat": 4,
 "nbformat_minor": 2
}
